{
  "nbformat": 4,
  "nbformat_minor": 0,
  "metadata": {
    "colab": {
      "provenance": [],
      "authorship_tag": "ABX9TyPz1Y1aX4xnjHJC0Tpbo6ay",
      "include_colab_link": true
    },
    "kernelspec": {
      "name": "python3",
      "display_name": "Python 3"
    },
    "language_info": {
      "name": "python"
    }
  },
  "cells": [
    {
      "cell_type": "markdown",
      "metadata": {
        "id": "view-in-github",
        "colab_type": "text"
      },
      "source": [
        "<a href=\"https://colab.research.google.com/github/Udaybabubojja/DWDM/blob/main/EXP_3.ipynb\" target=\"_parent\"><img src=\"https://colab.research.google.com/assets/colab-badge.svg\" alt=\"Open In Colab\"/></a>"
      ]
    },
    {
      "cell_type": "code",
      "execution_count": 1,
      "metadata": {
        "id": "f2Yqf6bl7tci"
      },
      "outputs": [],
      "source": [
        "import pandas as pd\n",
        "data = pd.read_csv('/content/race_results_20240101_20240131.csv')"
      ]
    },
    {
      "cell_type": "code",
      "source": [
        "data.head()"
      ],
      "metadata": {
        "colab": {
          "base_uri": "https://localhost:8080/",
          "height": 585
        },
        "id": "mJRNh0I_8zCI",
        "outputId": "646719d7-2433-47d1-f668-d75e5a2e73f4"
      },
      "execution_count": 2,
      "outputs": [
        {
          "output_type": "execute_result",
          "data": {
            "text/plain": [
              "    race_date race_city  race_no  result      horse_name horse_accessories  \\\n",
              "0  2024-01-01     Bursa        1       1      MY REVERIE           KG K DB   \n",
              "1  2024-01-01     Bursa        1       2     NOBLE WOMAN          KG DB SK   \n",
              "2  2024-01-01     Bursa        1       3    ÇİSEM SULTAN      KG K DB SGKR   \n",
              "3  2024-01-01     Bursa        1       4  OKYANUS GÜZELİ            SKG SK   \n",
              "4  2024-01-01     Bursa        1       5   MOUNTAIN LION             DB SK   \n",
              "\n",
              "  horse_age horse_sex                                       horse_origin  \\\n",
              "0        3y         f  BLUEGRASS CAT (USA)- LEGALLY INCLUDED (USA) / ...   \n",
              "1        3y         f             SCARFACE- PROVIDENCE / SRI PEKAN (USA)   \n",
              "2        3y         f  SMART ROBIN (JPN)- SNOOZY TIMES / ROYAL ABJAR ...   \n",
              "3        3y         f           SIDNEY'S CANDY (USA)- NURSENA / SCARFACE   \n",
              "4        3y         m     LION HEART (USA)- SAN MARINO / SRI PEKAN (USA)   \n",
              "\n",
              "             horse_sire  ...        horse_owner   horse_trainer  \\\n",
              "0   BLUEGRASS CAT (USA)  ...  NİMET ARİF KURTEL     TAMER TURAN   \n",
              "1              SCARFACE  ...         AHMET KURT    TUNCAY PELEN   \n",
              "2     SMART ROBIN (JPN)  ...    BÜLENT BAYBURAN    KAZIM ŞENGEL   \n",
              "3  SIDNEY'S CANDY (USA)  ...        DİLEK ÖKTEN  ALİ RIZA AYDIN   \n",
              "4      LION HEART (USA)  ...         SEMİH KATI  MURAT TÜRKOĞLU   \n",
              "\n",
              "   horse_race_degree horse_win_value horse_psf_rate horse_psf_rank  \\\n",
              "0            1.31.26            1.50             49              1   \n",
              "1            1.33.05            3.75             20              2   \n",
              "2            1.33.17           28.70              3              6   \n",
              "3            1.33.65           14.85              3              5   \n",
              "4            1.34.30            4.55             17              3   \n",
              "\n",
              "  Horse_starting_box_no  horse_margin  horse_late_start  horse_rate  \n",
              "0                     1     9 Lengths               NaN          42  \n",
              "1                     4  Half Lengths               NaN          43  \n",
              "2                     3     3 Lengths               NaN          33  \n",
              "3                     6     4 Lengths               NaN          39  \n",
              "4                     5           NaN               NaN          51  \n",
              "\n",
              "[5 rows x 24 columns]"
            ],
            "text/html": [
              "\n",
              "  <div id=\"df-80eaae83-596f-49f5-b532-44d7778e5c1f\" class=\"colab-df-container\">\n",
              "    <div>\n",
              "<style scoped>\n",
              "    .dataframe tbody tr th:only-of-type {\n",
              "        vertical-align: middle;\n",
              "    }\n",
              "\n",
              "    .dataframe tbody tr th {\n",
              "        vertical-align: top;\n",
              "    }\n",
              "\n",
              "    .dataframe thead th {\n",
              "        text-align: right;\n",
              "    }\n",
              "</style>\n",
              "<table border=\"1\" class=\"dataframe\">\n",
              "  <thead>\n",
              "    <tr style=\"text-align: right;\">\n",
              "      <th></th>\n",
              "      <th>race_date</th>\n",
              "      <th>race_city</th>\n",
              "      <th>race_no</th>\n",
              "      <th>result</th>\n",
              "      <th>horse_name</th>\n",
              "      <th>horse_accessories</th>\n",
              "      <th>horse_age</th>\n",
              "      <th>horse_sex</th>\n",
              "      <th>horse_origin</th>\n",
              "      <th>horse_sire</th>\n",
              "      <th>...</th>\n",
              "      <th>horse_owner</th>\n",
              "      <th>horse_trainer</th>\n",
              "      <th>horse_race_degree</th>\n",
              "      <th>horse_win_value</th>\n",
              "      <th>horse_psf_rate</th>\n",
              "      <th>horse_psf_rank</th>\n",
              "      <th>Horse_starting_box_no</th>\n",
              "      <th>horse_margin</th>\n",
              "      <th>horse_late_start</th>\n",
              "      <th>horse_rate</th>\n",
              "    </tr>\n",
              "  </thead>\n",
              "  <tbody>\n",
              "    <tr>\n",
              "      <th>0</th>\n",
              "      <td>2024-01-01</td>\n",
              "      <td>Bursa</td>\n",
              "      <td>1</td>\n",
              "      <td>1</td>\n",
              "      <td>MY REVERIE</td>\n",
              "      <td>KG K DB</td>\n",
              "      <td>3y</td>\n",
              "      <td>f</td>\n",
              "      <td>BLUEGRASS CAT (USA)- LEGALLY INCLUDED (USA) / ...</td>\n",
              "      <td>BLUEGRASS CAT (USA)</td>\n",
              "      <td>...</td>\n",
              "      <td>NİMET ARİF KURTEL</td>\n",
              "      <td>TAMER TURAN</td>\n",
              "      <td>1.31.26</td>\n",
              "      <td>1.50</td>\n",
              "      <td>49</td>\n",
              "      <td>1</td>\n",
              "      <td>1</td>\n",
              "      <td>9 Lengths</td>\n",
              "      <td>NaN</td>\n",
              "      <td>42</td>\n",
              "    </tr>\n",
              "    <tr>\n",
              "      <th>1</th>\n",
              "      <td>2024-01-01</td>\n",
              "      <td>Bursa</td>\n",
              "      <td>1</td>\n",
              "      <td>2</td>\n",
              "      <td>NOBLE WOMAN</td>\n",
              "      <td>KG DB SK</td>\n",
              "      <td>3y</td>\n",
              "      <td>f</td>\n",
              "      <td>SCARFACE- PROVIDENCE / SRI PEKAN (USA)</td>\n",
              "      <td>SCARFACE</td>\n",
              "      <td>...</td>\n",
              "      <td>AHMET KURT</td>\n",
              "      <td>TUNCAY PELEN</td>\n",
              "      <td>1.33.05</td>\n",
              "      <td>3.75</td>\n",
              "      <td>20</td>\n",
              "      <td>2</td>\n",
              "      <td>4</td>\n",
              "      <td>Half Lengths</td>\n",
              "      <td>NaN</td>\n",
              "      <td>43</td>\n",
              "    </tr>\n",
              "    <tr>\n",
              "      <th>2</th>\n",
              "      <td>2024-01-01</td>\n",
              "      <td>Bursa</td>\n",
              "      <td>1</td>\n",
              "      <td>3</td>\n",
              "      <td>ÇİSEM SULTAN</td>\n",
              "      <td>KG K DB SGKR</td>\n",
              "      <td>3y</td>\n",
              "      <td>f</td>\n",
              "      <td>SMART ROBIN (JPN)- SNOOZY TIMES / ROYAL ABJAR ...</td>\n",
              "      <td>SMART ROBIN (JPN)</td>\n",
              "      <td>...</td>\n",
              "      <td>BÜLENT BAYBURAN</td>\n",
              "      <td>KAZIM ŞENGEL</td>\n",
              "      <td>1.33.17</td>\n",
              "      <td>28.70</td>\n",
              "      <td>3</td>\n",
              "      <td>6</td>\n",
              "      <td>3</td>\n",
              "      <td>3 Lengths</td>\n",
              "      <td>NaN</td>\n",
              "      <td>33</td>\n",
              "    </tr>\n",
              "    <tr>\n",
              "      <th>3</th>\n",
              "      <td>2024-01-01</td>\n",
              "      <td>Bursa</td>\n",
              "      <td>1</td>\n",
              "      <td>4</td>\n",
              "      <td>OKYANUS GÜZELİ</td>\n",
              "      <td>SKG SK</td>\n",
              "      <td>3y</td>\n",
              "      <td>f</td>\n",
              "      <td>SIDNEY'S CANDY (USA)- NURSENA / SCARFACE</td>\n",
              "      <td>SIDNEY'S CANDY (USA)</td>\n",
              "      <td>...</td>\n",
              "      <td>DİLEK ÖKTEN</td>\n",
              "      <td>ALİ RIZA AYDIN</td>\n",
              "      <td>1.33.65</td>\n",
              "      <td>14.85</td>\n",
              "      <td>3</td>\n",
              "      <td>5</td>\n",
              "      <td>6</td>\n",
              "      <td>4 Lengths</td>\n",
              "      <td>NaN</td>\n",
              "      <td>39</td>\n",
              "    </tr>\n",
              "    <tr>\n",
              "      <th>4</th>\n",
              "      <td>2024-01-01</td>\n",
              "      <td>Bursa</td>\n",
              "      <td>1</td>\n",
              "      <td>5</td>\n",
              "      <td>MOUNTAIN LION</td>\n",
              "      <td>DB SK</td>\n",
              "      <td>3y</td>\n",
              "      <td>m</td>\n",
              "      <td>LION HEART (USA)- SAN MARINO / SRI PEKAN (USA)</td>\n",
              "      <td>LION HEART (USA)</td>\n",
              "      <td>...</td>\n",
              "      <td>SEMİH KATI</td>\n",
              "      <td>MURAT TÜRKOĞLU</td>\n",
              "      <td>1.34.30</td>\n",
              "      <td>4.55</td>\n",
              "      <td>17</td>\n",
              "      <td>3</td>\n",
              "      <td>5</td>\n",
              "      <td>NaN</td>\n",
              "      <td>NaN</td>\n",
              "      <td>51</td>\n",
              "    </tr>\n",
              "  </tbody>\n",
              "</table>\n",
              "<p>5 rows × 24 columns</p>\n",
              "</div>\n",
              "    <div class=\"colab-df-buttons\">\n",
              "\n",
              "  <div class=\"colab-df-container\">\n",
              "    <button class=\"colab-df-convert\" onclick=\"convertToInteractive('df-80eaae83-596f-49f5-b532-44d7778e5c1f')\"\n",
              "            title=\"Convert this dataframe to an interactive table.\"\n",
              "            style=\"display:none;\">\n",
              "\n",
              "  <svg xmlns=\"http://www.w3.org/2000/svg\" height=\"24px\" viewBox=\"0 -960 960 960\">\n",
              "    <path d=\"M120-120v-720h720v720H120Zm60-500h600v-160H180v160Zm220 220h160v-160H400v160Zm0 220h160v-160H400v160ZM180-400h160v-160H180v160Zm440 0h160v-160H620v160ZM180-180h160v-160H180v160Zm440 0h160v-160H620v160Z\"/>\n",
              "  </svg>\n",
              "    </button>\n",
              "\n",
              "  <style>\n",
              "    .colab-df-container {\n",
              "      display:flex;\n",
              "      gap: 12px;\n",
              "    }\n",
              "\n",
              "    .colab-df-convert {\n",
              "      background-color: #E8F0FE;\n",
              "      border: none;\n",
              "      border-radius: 50%;\n",
              "      cursor: pointer;\n",
              "      display: none;\n",
              "      fill: #1967D2;\n",
              "      height: 32px;\n",
              "      padding: 0 0 0 0;\n",
              "      width: 32px;\n",
              "    }\n",
              "\n",
              "    .colab-df-convert:hover {\n",
              "      background-color: #E2EBFA;\n",
              "      box-shadow: 0px 1px 2px rgba(60, 64, 67, 0.3), 0px 1px 3px 1px rgba(60, 64, 67, 0.15);\n",
              "      fill: #174EA6;\n",
              "    }\n",
              "\n",
              "    .colab-df-buttons div {\n",
              "      margin-bottom: 4px;\n",
              "    }\n",
              "\n",
              "    [theme=dark] .colab-df-convert {\n",
              "      background-color: #3B4455;\n",
              "      fill: #D2E3FC;\n",
              "    }\n",
              "\n",
              "    [theme=dark] .colab-df-convert:hover {\n",
              "      background-color: #434B5C;\n",
              "      box-shadow: 0px 1px 3px 1px rgba(0, 0, 0, 0.15);\n",
              "      filter: drop-shadow(0px 1px 2px rgba(0, 0, 0, 0.3));\n",
              "      fill: #FFFFFF;\n",
              "    }\n",
              "  </style>\n",
              "\n",
              "    <script>\n",
              "      const buttonEl =\n",
              "        document.querySelector('#df-80eaae83-596f-49f5-b532-44d7778e5c1f button.colab-df-convert');\n",
              "      buttonEl.style.display =\n",
              "        google.colab.kernel.accessAllowed ? 'block' : 'none';\n",
              "\n",
              "      async function convertToInteractive(key) {\n",
              "        const element = document.querySelector('#df-80eaae83-596f-49f5-b532-44d7778e5c1f');\n",
              "        const dataTable =\n",
              "          await google.colab.kernel.invokeFunction('convertToInteractive',\n",
              "                                                    [key], {});\n",
              "        if (!dataTable) return;\n",
              "\n",
              "        const docLinkHtml = 'Like what you see? Visit the ' +\n",
              "          '<a target=\"_blank\" href=https://colab.research.google.com/notebooks/data_table.ipynb>data table notebook</a>'\n",
              "          + ' to learn more about interactive tables.';\n",
              "        element.innerHTML = '';\n",
              "        dataTable['output_type'] = 'display_data';\n",
              "        await google.colab.output.renderOutput(dataTable, element);\n",
              "        const docLink = document.createElement('div');\n",
              "        docLink.innerHTML = docLinkHtml;\n",
              "        element.appendChild(docLink);\n",
              "      }\n",
              "    </script>\n",
              "  </div>\n",
              "\n",
              "\n",
              "<div id=\"df-58b6c23b-69b7-402d-8b79-9a4eabbaa560\">\n",
              "  <button class=\"colab-df-quickchart\" onclick=\"quickchart('df-58b6c23b-69b7-402d-8b79-9a4eabbaa560')\"\n",
              "            title=\"Suggest charts\"\n",
              "            style=\"display:none;\">\n",
              "\n",
              "<svg xmlns=\"http://www.w3.org/2000/svg\" height=\"24px\"viewBox=\"0 0 24 24\"\n",
              "     width=\"24px\">\n",
              "    <g>\n",
              "        <path d=\"M19 3H5c-1.1 0-2 .9-2 2v14c0 1.1.9 2 2 2h14c1.1 0 2-.9 2-2V5c0-1.1-.9-2-2-2zM9 17H7v-7h2v7zm4 0h-2V7h2v10zm4 0h-2v-4h2v4z\"/>\n",
              "    </g>\n",
              "</svg>\n",
              "  </button>\n",
              "\n",
              "<style>\n",
              "  .colab-df-quickchart {\n",
              "      --bg-color: #E8F0FE;\n",
              "      --fill-color: #1967D2;\n",
              "      --hover-bg-color: #E2EBFA;\n",
              "      --hover-fill-color: #174EA6;\n",
              "      --disabled-fill-color: #AAA;\n",
              "      --disabled-bg-color: #DDD;\n",
              "  }\n",
              "\n",
              "  [theme=dark] .colab-df-quickchart {\n",
              "      --bg-color: #3B4455;\n",
              "      --fill-color: #D2E3FC;\n",
              "      --hover-bg-color: #434B5C;\n",
              "      --hover-fill-color: #FFFFFF;\n",
              "      --disabled-bg-color: #3B4455;\n",
              "      --disabled-fill-color: #666;\n",
              "  }\n",
              "\n",
              "  .colab-df-quickchart {\n",
              "    background-color: var(--bg-color);\n",
              "    border: none;\n",
              "    border-radius: 50%;\n",
              "    cursor: pointer;\n",
              "    display: none;\n",
              "    fill: var(--fill-color);\n",
              "    height: 32px;\n",
              "    padding: 0;\n",
              "    width: 32px;\n",
              "  }\n",
              "\n",
              "  .colab-df-quickchart:hover {\n",
              "    background-color: var(--hover-bg-color);\n",
              "    box-shadow: 0 1px 2px rgba(60, 64, 67, 0.3), 0 1px 3px 1px rgba(60, 64, 67, 0.15);\n",
              "    fill: var(--button-hover-fill-color);\n",
              "  }\n",
              "\n",
              "  .colab-df-quickchart-complete:disabled,\n",
              "  .colab-df-quickchart-complete:disabled:hover {\n",
              "    background-color: var(--disabled-bg-color);\n",
              "    fill: var(--disabled-fill-color);\n",
              "    box-shadow: none;\n",
              "  }\n",
              "\n",
              "  .colab-df-spinner {\n",
              "    border: 2px solid var(--fill-color);\n",
              "    border-color: transparent;\n",
              "    border-bottom-color: var(--fill-color);\n",
              "    animation:\n",
              "      spin 1s steps(1) infinite;\n",
              "  }\n",
              "\n",
              "  @keyframes spin {\n",
              "    0% {\n",
              "      border-color: transparent;\n",
              "      border-bottom-color: var(--fill-color);\n",
              "      border-left-color: var(--fill-color);\n",
              "    }\n",
              "    20% {\n",
              "      border-color: transparent;\n",
              "      border-left-color: var(--fill-color);\n",
              "      border-top-color: var(--fill-color);\n",
              "    }\n",
              "    30% {\n",
              "      border-color: transparent;\n",
              "      border-left-color: var(--fill-color);\n",
              "      border-top-color: var(--fill-color);\n",
              "      border-right-color: var(--fill-color);\n",
              "    }\n",
              "    40% {\n",
              "      border-color: transparent;\n",
              "      border-right-color: var(--fill-color);\n",
              "      border-top-color: var(--fill-color);\n",
              "    }\n",
              "    60% {\n",
              "      border-color: transparent;\n",
              "      border-right-color: var(--fill-color);\n",
              "    }\n",
              "    80% {\n",
              "      border-color: transparent;\n",
              "      border-right-color: var(--fill-color);\n",
              "      border-bottom-color: var(--fill-color);\n",
              "    }\n",
              "    90% {\n",
              "      border-color: transparent;\n",
              "      border-bottom-color: var(--fill-color);\n",
              "    }\n",
              "  }\n",
              "</style>\n",
              "\n",
              "  <script>\n",
              "    async function quickchart(key) {\n",
              "      const quickchartButtonEl =\n",
              "        document.querySelector('#' + key + ' button');\n",
              "      quickchartButtonEl.disabled = true;  // To prevent multiple clicks.\n",
              "      quickchartButtonEl.classList.add('colab-df-spinner');\n",
              "      try {\n",
              "        const charts = await google.colab.kernel.invokeFunction(\n",
              "            'suggestCharts', [key], {});\n",
              "      } catch (error) {\n",
              "        console.error('Error during call to suggestCharts:', error);\n",
              "      }\n",
              "      quickchartButtonEl.classList.remove('colab-df-spinner');\n",
              "      quickchartButtonEl.classList.add('colab-df-quickchart-complete');\n",
              "    }\n",
              "    (() => {\n",
              "      let quickchartButtonEl =\n",
              "        document.querySelector('#df-58b6c23b-69b7-402d-8b79-9a4eabbaa560 button');\n",
              "      quickchartButtonEl.style.display =\n",
              "        google.colab.kernel.accessAllowed ? 'block' : 'none';\n",
              "    })();\n",
              "  </script>\n",
              "</div>\n",
              "    </div>\n",
              "  </div>\n"
            ],
            "application/vnd.google.colaboratory.intrinsic+json": {
              "type": "dataframe",
              "variable_name": "data"
            }
          },
          "metadata": {},
          "execution_count": 2
        }
      ]
    },
    {
      "cell_type": "code",
      "source": [
        "data_types = data.dtypes\n",
        "data_types"
      ],
      "metadata": {
        "colab": {
          "base_uri": "https://localhost:8080/"
        },
        "id": "wElchjq683xk",
        "outputId": "23bbb5e8-2906-4934-b6ce-906ff6758929"
      },
      "execution_count": 3,
      "outputs": [
        {
          "output_type": "execute_result",
          "data": {
            "text/plain": [
              "race_date                 object\n",
              "race_city                 object\n",
              "race_no                    int64\n",
              "result                     int64\n",
              "horse_name                object\n",
              "horse_accessories         object\n",
              "horse_age                 object\n",
              "horse_sex                 object\n",
              "horse_origin              object\n",
              "horse_sire                object\n",
              "horse_dam                 object\n",
              "hors_broodmare_sire       object\n",
              "jockey_weight              int64\n",
              "jockey_name               object\n",
              "horse_owner               object\n",
              "horse_trainer             object\n",
              "horse_race_degree         object\n",
              "horse_win_value          float64\n",
              "horse_psf_rate             int64\n",
              "horse_psf_rank             int64\n",
              "Horse_starting_box_no      int64\n",
              "horse_margin              object\n",
              "horse_late_start          object\n",
              "horse_rate                 int64\n",
              "dtype: object"
            ]
          },
          "metadata": {},
          "execution_count": 3
        }
      ]
    },
    {
      "cell_type": "code",
      "source": [
        "x_categorical = data_types[data_types==\"object\"].index.tolist()\n",
        "x_categorical"
      ],
      "metadata": {
        "colab": {
          "base_uri": "https://localhost:8080/"
        },
        "id": "4r8MH16G8_Bn",
        "outputId": "29721a0d-02d7-4899-95e8-c47b2c61c064"
      },
      "execution_count": 5,
      "outputs": [
        {
          "output_type": "execute_result",
          "data": {
            "text/plain": [
              "['race_date',\n",
              " 'race_city',\n",
              " 'horse_name',\n",
              " 'horse_accessories',\n",
              " 'horse_age',\n",
              " 'horse_sex',\n",
              " 'horse_origin',\n",
              " 'horse_sire',\n",
              " 'horse_dam',\n",
              " 'hors_broodmare_sire',\n",
              " 'jockey_name',\n",
              " 'horse_owner',\n",
              " 'horse_trainer',\n",
              " 'horse_race_degree',\n",
              " 'horse_margin',\n",
              " 'horse_late_start']"
            ]
          },
          "metadata": {},
          "execution_count": 5
        }
      ]
    },
    {
      "cell_type": "code",
      "source": [
        "from sklearn.datasets import load_iris\n",
        "import pandas as pd\n",
        "\n",
        "iris = load_iris()\n",
        "data = pd.DataFrame(iris.data, columns=iris.feature_names)\n",
        "data['target'] = iris.target"
      ],
      "metadata": {
        "id": "zQVOScNH9o42"
      },
      "execution_count": 14,
      "outputs": []
    },
    {
      "cell_type": "code",
      "source": [
        "from sklearn.metrics.pairwise import cosine_similarity\n",
        "\n",
        "cos_sim = cosine_similarity(data.iloc[[0]], data.iloc[[1]])\n",
        "cos_sim"
      ],
      "metadata": {
        "colab": {
          "base_uri": "https://localhost:8080/"
        },
        "id": "ZJbUBQe_BBvN",
        "outputId": "3845780a-2737-4e37-8ea2-934cca984777"
      },
      "execution_count": 15,
      "outputs": [
        {
          "output_type": "execute_result",
          "data": {
            "text/plain": [
              "array([[0.99857916]])"
            ]
          },
          "metadata": {},
          "execution_count": 15
        }
      ]
    },
    {
      "cell_type": "code",
      "source": [
        "from sklearn.metrics.pairwise import euclidean_distances\n",
        "\n",
        "euclidean_dist = euclidean_distances(data.iloc[[0]], data.iloc[[1]])\n",
        "print(euclidean_dist)"
      ],
      "metadata": {
        "colab": {
          "base_uri": "https://localhost:8080/"
        },
        "id": "TeVcOov7_nqn",
        "outputId": "5bb958dd-2589-441f-a3f1-d964ffcb2813"
      },
      "execution_count": 16,
      "outputs": [
        {
          "output_type": "stream",
          "name": "stdout",
          "text": [
            "[[0.53851648]]\n"
          ]
        }
      ]
    },
    {
      "cell_type": "code",
      "source": [
        "from scipy.stats import pearsonr\n",
        "corr, _ = pearsonr(data['petal length (cm)'], data['petal width (cm)'])\n",
        "print(corr)"
      ],
      "metadata": {
        "colab": {
          "base_uri": "https://localhost:8080/"
        },
        "id": "3c9idpD3ByP1",
        "outputId": "82b9603e-9ba2-4dea-fd95-7717b08fa490"
      },
      "execution_count": 20,
      "outputs": [
        {
          "output_type": "stream",
          "name": "stdout",
          "text": [
            "0.962865431402796\n"
          ]
        }
      ]
    },
    {
      "cell_type": "code",
      "source": [
        "from sklearn.metrics import jaccard_score\n",
        "import numpy as np\n",
        "# Assuming 'data' is your DataFrame containing ground truth and predicted labels\n",
        "# Extract the ground truth and predicted labels as arrays or lists\n",
        "y_true = data.iloc[0]['target']\n",
        "y_pred = data.iloc[1]['target']\n",
        "\n",
        "# Ensure the labels are provided as arrays or lists\n",
        "y_true = [y_true] if not isinstance(y_true, (list, np.ndarray)) else y_true\n",
        "y_pred = [y_pred] if not isinstance(y_pred, (list, np.ndarray)) else y_pred\n",
        "\n",
        "# Calculate the Jaccard similarity score between two sets of labels\n",
        "jaccard_sim = jaccard_score(y_true, y_pred)\n",
        "\n",
        "# Print the Jaccard similarity score\n",
        "print(\"Jaccard Similarity Score:\", jaccard_sim)\n"
      ],
      "metadata": {
        "colab": {
          "base_uri": "https://localhost:8080/"
        },
        "id": "LqLz6wxcDrYX",
        "outputId": "a3588526-c6e2-426e-be39-4f4d6cad9de3"
      },
      "execution_count": 26,
      "outputs": [
        {
          "output_type": "stream",
          "name": "stdout",
          "text": [
            "Jaccard Similarity Score: 0.0\n"
          ]
        },
        {
          "output_type": "stream",
          "name": "stderr",
          "text": [
            "/usr/local/lib/python3.10/dist-packages/sklearn/metrics/_classification.py:1344: UndefinedMetricWarning: Jaccard is ill-defined and being set to 0.0 due to no true or predicted samples. Use `zero_division` parameter to control this behavior.\n",
            "  _warn_prf(average, modifier, msg_start, len(result))\n"
          ]
        }
      ]
    },
    {
      "cell_type": "code",
      "source": [
        "from sklearn.metrics.pairwise import manhattan_distances\n",
        "manhattan_dist = manhattan_distances(data.iloc[[0], :-1], data.iloc[[1], :-1])\n",
        "print(manhattan_dist[0][0])\n",
        "\n",
        "cos_sim = cosine_similarity(data.iloc[[0]], data.iloc[[1]])\n",
        "cos_sim"
      ],
      "metadata": {
        "colab": {
          "base_uri": "https://localhost:8080/"
        },
        "id": "lrvUVxKdGhxm",
        "outputId": "ef1ae328-01e5-4601-899d-21c5aef2e172"
      },
      "execution_count": 27,
      "outputs": [
        {
          "output_type": "stream",
          "name": "stdout",
          "text": [
            "0.6999999999999993\n"
          ]
        },
        {
          "output_type": "execute_result",
          "data": {
            "text/plain": [
              "array([[0.99857916]])"
            ]
          },
          "metadata": {},
          "execution_count": 27
        }
      ]
    }
  ]
}