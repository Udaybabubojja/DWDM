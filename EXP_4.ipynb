{
  "nbformat": 4,
  "nbformat_minor": 0,
  "metadata": {
    "colab": {
      "provenance": [],
      "mount_file_id": "1V_hM65UvSn1SUyet_Lmt_ZWo16uCun9Z",
      "authorship_tag": "ABX9TyNME4ZmFjOzp5uVNYyTW5tT",
      "include_colab_link": true
    },
    "kernelspec": {
      "name": "python3",
      "display_name": "Python 3"
    },
    "language_info": {
      "name": "python"
    }
  },
  "cells": [
    {
      "cell_type": "markdown",
      "metadata": {
        "id": "view-in-github",
        "colab_type": "text"
      },
      "source": [
        "<a href=\"https://colab.research.google.com/github/Udaybabubojja/DWDM/blob/main/EXP_4.ipynb\" target=\"_parent\"><img src=\"https://colab.research.google.com/assets/colab-badge.svg\" alt=\"Open In Colab\"/></a>"
      ]
    },
    {
      "cell_type": "code",
      "source": [],
      "metadata": {
        "id": "OigHKU-cGf1e"
      },
      "execution_count": null,
      "outputs": []
    },
    {
      "cell_type": "code",
      "execution_count": null,
      "metadata": {
        "id": "NqhtMA3C_Y0J"
      },
      "outputs": [],
      "source": [
        "import pandas as pd\n",
        "data = pd.read_csv('/content/race_results_20240101_20240131.csv')"
      ]
    },
    {
      "cell_type": "code",
      "source": [
        "data.isnull().sum()"
      ],
      "metadata": {
        "colab": {
          "base_uri": "https://localhost:8080/"
        },
        "id": "3qNajJmlA0z4",
        "outputId": "b018c847-6276-4ff7-f269-3592a3f96617"
      },
      "execution_count": null,
      "outputs": [
        {
          "output_type": "execute_result",
          "data": {
            "text/plain": [
              "race_date                   0\n",
              "race_city                   0\n",
              "race_no                     0\n",
              "result                      0\n",
              "horse_name                  0\n",
              "horse_accessories         114\n",
              "horse_age                   0\n",
              "horse_sex                   0\n",
              "horse_origin                0\n",
              "horse_sire                  0\n",
              "horse_dam                   0\n",
              "hors_broodmare_sire         0\n",
              "jockey_weight               0\n",
              "jockey_name                 0\n",
              "horse_owner                 0\n",
              "horse_trainer              25\n",
              "horse_race_degree           0\n",
              "horse_win_value             2\n",
              "horse_psf_rate              0\n",
              "horse_psf_rank              0\n",
              "Horse_starting_box_no       0\n",
              "horse_margin             2372\n",
              "horse_late_start         3789\n",
              "horse_rate                  0\n",
              "dtype: int64"
            ]
          },
          "metadata": {},
          "execution_count": 3
        }
      ]
    },
    {
      "cell_type": "code",
      "source": [
        "mean_value = data['horse_win_value'].mean()\n",
        "data['horse_win_value'].fillna(mean_value, inplace=True)\n",
        "data.isnull().sum()"
      ],
      "metadata": {
        "colab": {
          "base_uri": "https://localhost:8080/"
        },
        "id": "K2aEVmVeA8Mh",
        "outputId": "e8b81f20-2b32-4f3a-855d-65073f35a927"
      },
      "execution_count": null,
      "outputs": [
        {
          "output_type": "execute_result",
          "data": {
            "text/plain": [
              "race_date                   0\n",
              "race_city                   0\n",
              "race_no                     0\n",
              "result                      0\n",
              "horse_name                  0\n",
              "horse_accessories         114\n",
              "horse_age                   0\n",
              "horse_sex                   0\n",
              "horse_origin                0\n",
              "horse_sire                  0\n",
              "horse_dam                   0\n",
              "hors_broodmare_sire         0\n",
              "jockey_weight               0\n",
              "jockey_name                 0\n",
              "horse_owner                 0\n",
              "horse_trainer              25\n",
              "horse_race_degree           0\n",
              "horse_win_value             0\n",
              "horse_psf_rate              0\n",
              "horse_psf_rank              0\n",
              "Horse_starting_box_no       0\n",
              "horse_margin             2372\n",
              "horse_late_start         3789\n",
              "horse_rate                  0\n",
              "dtype: int64"
            ]
          },
          "metadata": {},
          "execution_count": 4
        }
      ]
    },
    {
      "cell_type": "code",
      "source": [
        "data.drop(columns=['horse_margin', 'horse_late_start'], inplace=True)\n",
        "data"
      ],
      "metadata": {
        "colab": {
          "base_uri": "https://localhost:8080/",
          "height": 929
        },
        "id": "jPm7Uu2GBQG5",
        "outputId": "90487fe2-28e2-4968-aef7-09ee06a7b015"
      },
      "execution_count": null,
      "outputs": [
        {
          "output_type": "execute_result",
          "data": {
            "text/plain": [
              "       race_date  race_city  race_no  result      horse_name  \\\n",
              "0     2024-01-01      Bursa        1       1      MY REVERIE   \n",
              "1     2024-01-01      Bursa        1       2     NOBLE WOMAN   \n",
              "2     2024-01-01      Bursa        1       3    ÇİSEM SULTAN   \n",
              "3     2024-01-01      Bursa        1       4  OKYANUS GÜZELİ   \n",
              "4     2024-01-01      Bursa        1       5   MOUNTAIN LION   \n",
              "...          ...        ...      ...     ...             ...   \n",
              "4278  2024-01-31  Şanlıurfa        8      11  ASLAN YÜREKLİM   \n",
              "4279  2024-01-31  Şanlıurfa        8      12       SERHATTIM   \n",
              "4280  2024-01-31  Şanlıurfa        8      13   UÇANTUMBULBEY   \n",
              "4281  2024-01-31  Şanlıurfa        8      14    RECEBİN OĞLU   \n",
              "4282  2024-01-31  Şanlıurfa        8      15         AGAHBEY   \n",
              "\n",
              "     horse_accessories horse_age horse_sex  \\\n",
              "0              KG K DB        3y         f   \n",
              "1             KG DB SK        3y         f   \n",
              "2         KG K DB SGKR        3y         f   \n",
              "3               SKG SK        3y         f   \n",
              "4                DB SK        3y         m   \n",
              "...                ...       ...       ...   \n",
              "4278          KG DB SK        4y         m   \n",
              "4279            SKG SK        4y         m   \n",
              "4280             KG SK        4y         m   \n",
              "4281                KG        4y         m   \n",
              "4282          KG DB SK        4y         m   \n",
              "\n",
              "                                           horse_origin            horse_sire  \\\n",
              "0     BLUEGRASS CAT (USA)- LEGALLY INCLUDED (USA) / ...   BLUEGRASS CAT (USA)   \n",
              "1                SCARFACE- PROVIDENCE / SRI PEKAN (USA)              SCARFACE   \n",
              "2     SMART ROBIN (JPN)- SNOOZY TIMES / ROYAL ABJAR ...     SMART ROBIN (JPN)   \n",
              "3              SIDNEY'S CANDY (USA)- NURSENA / SCARFACE  SIDNEY'S CANDY (USA)   \n",
              "4        LION HEART (USA)- SAN MARINO / SRI PEKAN (USA)      LION HEART (USA)   \n",
              "...                                                 ...                   ...   \n",
              "4278                     KAYAYÜREKLİ- ARZUKAYA / BOKSÖR           KAYAYÜREKLİ   \n",
              "4279                       KARAKEMAL- CANDEZİ / SAĞANAK             KARAKEMAL   \n",
              "4280                        JOKER- BERKTEK / TEKELİOĞLU                 JOKER   \n",
              "4281                       JOKER- GEBZEBALI / SERDARHAN                 JOKER   \n",
              "4282                            ORÇUN- İLKORU / UMUTBEY                 ORÇUN   \n",
              "\n",
              "      ... jockey_weight       jockey_name         horse_owner  \\\n",
              "0     ...            56       TUGAY ALICI   NİMET ARİF KURTEL   \n",
              "1     ...            58       ONUR YILDIZ          AHMET KURT   \n",
              "2     ...            56        SELİM İPEK     BÜLENT BAYBURAN   \n",
              "3     ...            56         OĞUZ EREN         DİLEK ÖKTEN   \n",
              "4     ...            57     BERKANT GÖKÇE          SEMİH KATI   \n",
              "...   ...           ...               ...                 ...   \n",
              "4278  ...            58  ABDULLAH ÇANKAYA  MEHMET ŞAH ATAKAYA   \n",
              "4279  ...            54      BURAK BEKTAŞ        MAHMUT TEKİN   \n",
              "4280  ...            53      MEHMET ŞAKİR           ALİ POLAT   \n",
              "4281  ...            58      ALİ ŞENBAHAR       HÜSEYİN ÇELİK   \n",
              "4282  ...            57    MENDERES AVŞAR         ERDAL TURAN   \n",
              "\n",
              "         horse_trainer horse_race_degree horse_win_value horse_psf_rate  \\\n",
              "0          TAMER TURAN           1.31.26            1.50             49   \n",
              "1         TUNCAY PELEN           1.33.05            3.75             20   \n",
              "2         KAZIM ŞENGEL           1.33.17           28.70              3   \n",
              "3       ALİ RIZA AYDIN           1.33.65           14.85              3   \n",
              "4       MURAT TÜRKOĞLU           1.34.30            4.55             17   \n",
              "...                ...               ...             ...            ...   \n",
              "4278      YELİZ BAYSAL           2.17.56           20.50              3   \n",
              "4279     MAHSUM BARCİN           2.17.92           34.90              2   \n",
              "4280       MURAT ALTIN           2.18.09            9.45              5   \n",
              "4281    MEHMET DEMİROL           2.20.75           24.35              2   \n",
              "4282  HARUN DEĞİRMENCİ           2.25.15           41.30              2   \n",
              "\n",
              "      horse_psf_rank  Horse_starting_box_no  horse_rate  \n",
              "0                  1                      1          42  \n",
              "1                  2                      4          43  \n",
              "2                  6                      3          33  \n",
              "3                  5                      6          39  \n",
              "4                  3                      5          51  \n",
              "...              ...                    ...         ...  \n",
              "4278              11                      7          42  \n",
              "4279              14                      8          32  \n",
              "4280               7                      6          34  \n",
              "4281              15                      9          42  \n",
              "4282              13                     15          37  \n",
              "\n",
              "[4283 rows x 22 columns]"
            ],
            "text/html": [
              "\n",
              "  <div id=\"df-67eacad4-a84e-44d4-86a6-cb6e5cce7765\" class=\"colab-df-container\">\n",
              "    <div>\n",
              "<style scoped>\n",
              "    .dataframe tbody tr th:only-of-type {\n",
              "        vertical-align: middle;\n",
              "    }\n",
              "\n",
              "    .dataframe tbody tr th {\n",
              "        vertical-align: top;\n",
              "    }\n",
              "\n",
              "    .dataframe thead th {\n",
              "        text-align: right;\n",
              "    }\n",
              "</style>\n",
              "<table border=\"1\" class=\"dataframe\">\n",
              "  <thead>\n",
              "    <tr style=\"text-align: right;\">\n",
              "      <th></th>\n",
              "      <th>race_date</th>\n",
              "      <th>race_city</th>\n",
              "      <th>race_no</th>\n",
              "      <th>result</th>\n",
              "      <th>horse_name</th>\n",
              "      <th>horse_accessories</th>\n",
              "      <th>horse_age</th>\n",
              "      <th>horse_sex</th>\n",
              "      <th>horse_origin</th>\n",
              "      <th>horse_sire</th>\n",
              "      <th>...</th>\n",
              "      <th>jockey_weight</th>\n",
              "      <th>jockey_name</th>\n",
              "      <th>horse_owner</th>\n",
              "      <th>horse_trainer</th>\n",
              "      <th>horse_race_degree</th>\n",
              "      <th>horse_win_value</th>\n",
              "      <th>horse_psf_rate</th>\n",
              "      <th>horse_psf_rank</th>\n",
              "      <th>Horse_starting_box_no</th>\n",
              "      <th>horse_rate</th>\n",
              "    </tr>\n",
              "  </thead>\n",
              "  <tbody>\n",
              "    <tr>\n",
              "      <th>0</th>\n",
              "      <td>2024-01-01</td>\n",
              "      <td>Bursa</td>\n",
              "      <td>1</td>\n",
              "      <td>1</td>\n",
              "      <td>MY REVERIE</td>\n",
              "      <td>KG K DB</td>\n",
              "      <td>3y</td>\n",
              "      <td>f</td>\n",
              "      <td>BLUEGRASS CAT (USA)- LEGALLY INCLUDED (USA) / ...</td>\n",
              "      <td>BLUEGRASS CAT (USA)</td>\n",
              "      <td>...</td>\n",
              "      <td>56</td>\n",
              "      <td>TUGAY ALICI</td>\n",
              "      <td>NİMET ARİF KURTEL</td>\n",
              "      <td>TAMER TURAN</td>\n",
              "      <td>1.31.26</td>\n",
              "      <td>1.50</td>\n",
              "      <td>49</td>\n",
              "      <td>1</td>\n",
              "      <td>1</td>\n",
              "      <td>42</td>\n",
              "    </tr>\n",
              "    <tr>\n",
              "      <th>1</th>\n",
              "      <td>2024-01-01</td>\n",
              "      <td>Bursa</td>\n",
              "      <td>1</td>\n",
              "      <td>2</td>\n",
              "      <td>NOBLE WOMAN</td>\n",
              "      <td>KG DB SK</td>\n",
              "      <td>3y</td>\n",
              "      <td>f</td>\n",
              "      <td>SCARFACE- PROVIDENCE / SRI PEKAN (USA)</td>\n",
              "      <td>SCARFACE</td>\n",
              "      <td>...</td>\n",
              "      <td>58</td>\n",
              "      <td>ONUR YILDIZ</td>\n",
              "      <td>AHMET KURT</td>\n",
              "      <td>TUNCAY PELEN</td>\n",
              "      <td>1.33.05</td>\n",
              "      <td>3.75</td>\n",
              "      <td>20</td>\n",
              "      <td>2</td>\n",
              "      <td>4</td>\n",
              "      <td>43</td>\n",
              "    </tr>\n",
              "    <tr>\n",
              "      <th>2</th>\n",
              "      <td>2024-01-01</td>\n",
              "      <td>Bursa</td>\n",
              "      <td>1</td>\n",
              "      <td>3</td>\n",
              "      <td>ÇİSEM SULTAN</td>\n",
              "      <td>KG K DB SGKR</td>\n",
              "      <td>3y</td>\n",
              "      <td>f</td>\n",
              "      <td>SMART ROBIN (JPN)- SNOOZY TIMES / ROYAL ABJAR ...</td>\n",
              "      <td>SMART ROBIN (JPN)</td>\n",
              "      <td>...</td>\n",
              "      <td>56</td>\n",
              "      <td>SELİM İPEK</td>\n",
              "      <td>BÜLENT BAYBURAN</td>\n",
              "      <td>KAZIM ŞENGEL</td>\n",
              "      <td>1.33.17</td>\n",
              "      <td>28.70</td>\n",
              "      <td>3</td>\n",
              "      <td>6</td>\n",
              "      <td>3</td>\n",
              "      <td>33</td>\n",
              "    </tr>\n",
              "    <tr>\n",
              "      <th>3</th>\n",
              "      <td>2024-01-01</td>\n",
              "      <td>Bursa</td>\n",
              "      <td>1</td>\n",
              "      <td>4</td>\n",
              "      <td>OKYANUS GÜZELİ</td>\n",
              "      <td>SKG SK</td>\n",
              "      <td>3y</td>\n",
              "      <td>f</td>\n",
              "      <td>SIDNEY'S CANDY (USA)- NURSENA / SCARFACE</td>\n",
              "      <td>SIDNEY'S CANDY (USA)</td>\n",
              "      <td>...</td>\n",
              "      <td>56</td>\n",
              "      <td>OĞUZ EREN</td>\n",
              "      <td>DİLEK ÖKTEN</td>\n",
              "      <td>ALİ RIZA AYDIN</td>\n",
              "      <td>1.33.65</td>\n",
              "      <td>14.85</td>\n",
              "      <td>3</td>\n",
              "      <td>5</td>\n",
              "      <td>6</td>\n",
              "      <td>39</td>\n",
              "    </tr>\n",
              "    <tr>\n",
              "      <th>4</th>\n",
              "      <td>2024-01-01</td>\n",
              "      <td>Bursa</td>\n",
              "      <td>1</td>\n",
              "      <td>5</td>\n",
              "      <td>MOUNTAIN LION</td>\n",
              "      <td>DB SK</td>\n",
              "      <td>3y</td>\n",
              "      <td>m</td>\n",
              "      <td>LION HEART (USA)- SAN MARINO / SRI PEKAN (USA)</td>\n",
              "      <td>LION HEART (USA)</td>\n",
              "      <td>...</td>\n",
              "      <td>57</td>\n",
              "      <td>BERKANT GÖKÇE</td>\n",
              "      <td>SEMİH KATI</td>\n",
              "      <td>MURAT TÜRKOĞLU</td>\n",
              "      <td>1.34.30</td>\n",
              "      <td>4.55</td>\n",
              "      <td>17</td>\n",
              "      <td>3</td>\n",
              "      <td>5</td>\n",
              "      <td>51</td>\n",
              "    </tr>\n",
              "    <tr>\n",
              "      <th>...</th>\n",
              "      <td>...</td>\n",
              "      <td>...</td>\n",
              "      <td>...</td>\n",
              "      <td>...</td>\n",
              "      <td>...</td>\n",
              "      <td>...</td>\n",
              "      <td>...</td>\n",
              "      <td>...</td>\n",
              "      <td>...</td>\n",
              "      <td>...</td>\n",
              "      <td>...</td>\n",
              "      <td>...</td>\n",
              "      <td>...</td>\n",
              "      <td>...</td>\n",
              "      <td>...</td>\n",
              "      <td>...</td>\n",
              "      <td>...</td>\n",
              "      <td>...</td>\n",
              "      <td>...</td>\n",
              "      <td>...</td>\n",
              "      <td>...</td>\n",
              "    </tr>\n",
              "    <tr>\n",
              "      <th>4278</th>\n",
              "      <td>2024-01-31</td>\n",
              "      <td>Şanlıurfa</td>\n",
              "      <td>8</td>\n",
              "      <td>11</td>\n",
              "      <td>ASLAN YÜREKLİM</td>\n",
              "      <td>KG DB SK</td>\n",
              "      <td>4y</td>\n",
              "      <td>m</td>\n",
              "      <td>KAYAYÜREKLİ- ARZUKAYA / BOKSÖR</td>\n",
              "      <td>KAYAYÜREKLİ</td>\n",
              "      <td>...</td>\n",
              "      <td>58</td>\n",
              "      <td>ABDULLAH ÇANKAYA</td>\n",
              "      <td>MEHMET ŞAH ATAKAYA</td>\n",
              "      <td>YELİZ BAYSAL</td>\n",
              "      <td>2.17.56</td>\n",
              "      <td>20.50</td>\n",
              "      <td>3</td>\n",
              "      <td>11</td>\n",
              "      <td>7</td>\n",
              "      <td>42</td>\n",
              "    </tr>\n",
              "    <tr>\n",
              "      <th>4279</th>\n",
              "      <td>2024-01-31</td>\n",
              "      <td>Şanlıurfa</td>\n",
              "      <td>8</td>\n",
              "      <td>12</td>\n",
              "      <td>SERHATTIM</td>\n",
              "      <td>SKG SK</td>\n",
              "      <td>4y</td>\n",
              "      <td>m</td>\n",
              "      <td>KARAKEMAL- CANDEZİ / SAĞANAK</td>\n",
              "      <td>KARAKEMAL</td>\n",
              "      <td>...</td>\n",
              "      <td>54</td>\n",
              "      <td>BURAK BEKTAŞ</td>\n",
              "      <td>MAHMUT TEKİN</td>\n",
              "      <td>MAHSUM BARCİN</td>\n",
              "      <td>2.17.92</td>\n",
              "      <td>34.90</td>\n",
              "      <td>2</td>\n",
              "      <td>14</td>\n",
              "      <td>8</td>\n",
              "      <td>32</td>\n",
              "    </tr>\n",
              "    <tr>\n",
              "      <th>4280</th>\n",
              "      <td>2024-01-31</td>\n",
              "      <td>Şanlıurfa</td>\n",
              "      <td>8</td>\n",
              "      <td>13</td>\n",
              "      <td>UÇANTUMBULBEY</td>\n",
              "      <td>KG SK</td>\n",
              "      <td>4y</td>\n",
              "      <td>m</td>\n",
              "      <td>JOKER- BERKTEK / TEKELİOĞLU</td>\n",
              "      <td>JOKER</td>\n",
              "      <td>...</td>\n",
              "      <td>53</td>\n",
              "      <td>MEHMET ŞAKİR</td>\n",
              "      <td>ALİ POLAT</td>\n",
              "      <td>MURAT ALTIN</td>\n",
              "      <td>2.18.09</td>\n",
              "      <td>9.45</td>\n",
              "      <td>5</td>\n",
              "      <td>7</td>\n",
              "      <td>6</td>\n",
              "      <td>34</td>\n",
              "    </tr>\n",
              "    <tr>\n",
              "      <th>4281</th>\n",
              "      <td>2024-01-31</td>\n",
              "      <td>Şanlıurfa</td>\n",
              "      <td>8</td>\n",
              "      <td>14</td>\n",
              "      <td>RECEBİN OĞLU</td>\n",
              "      <td>KG</td>\n",
              "      <td>4y</td>\n",
              "      <td>m</td>\n",
              "      <td>JOKER- GEBZEBALI / SERDARHAN</td>\n",
              "      <td>JOKER</td>\n",
              "      <td>...</td>\n",
              "      <td>58</td>\n",
              "      <td>ALİ ŞENBAHAR</td>\n",
              "      <td>HÜSEYİN ÇELİK</td>\n",
              "      <td>MEHMET DEMİROL</td>\n",
              "      <td>2.20.75</td>\n",
              "      <td>24.35</td>\n",
              "      <td>2</td>\n",
              "      <td>15</td>\n",
              "      <td>9</td>\n",
              "      <td>42</td>\n",
              "    </tr>\n",
              "    <tr>\n",
              "      <th>4282</th>\n",
              "      <td>2024-01-31</td>\n",
              "      <td>Şanlıurfa</td>\n",
              "      <td>8</td>\n",
              "      <td>15</td>\n",
              "      <td>AGAHBEY</td>\n",
              "      <td>KG DB SK</td>\n",
              "      <td>4y</td>\n",
              "      <td>m</td>\n",
              "      <td>ORÇUN- İLKORU / UMUTBEY</td>\n",
              "      <td>ORÇUN</td>\n",
              "      <td>...</td>\n",
              "      <td>57</td>\n",
              "      <td>MENDERES AVŞAR</td>\n",
              "      <td>ERDAL TURAN</td>\n",
              "      <td>HARUN DEĞİRMENCİ</td>\n",
              "      <td>2.25.15</td>\n",
              "      <td>41.30</td>\n",
              "      <td>2</td>\n",
              "      <td>13</td>\n",
              "      <td>15</td>\n",
              "      <td>37</td>\n",
              "    </tr>\n",
              "  </tbody>\n",
              "</table>\n",
              "<p>4283 rows × 22 columns</p>\n",
              "</div>\n",
              "    <div class=\"colab-df-buttons\">\n",
              "\n",
              "  <div class=\"colab-df-container\">\n",
              "    <button class=\"colab-df-convert\" onclick=\"convertToInteractive('df-67eacad4-a84e-44d4-86a6-cb6e5cce7765')\"\n",
              "            title=\"Convert this dataframe to an interactive table.\"\n",
              "            style=\"display:none;\">\n",
              "\n",
              "  <svg xmlns=\"http://www.w3.org/2000/svg\" height=\"24px\" viewBox=\"0 -960 960 960\">\n",
              "    <path d=\"M120-120v-720h720v720H120Zm60-500h600v-160H180v160Zm220 220h160v-160H400v160Zm0 220h160v-160H400v160ZM180-400h160v-160H180v160Zm440 0h160v-160H620v160ZM180-180h160v-160H180v160Zm440 0h160v-160H620v160Z\"/>\n",
              "  </svg>\n",
              "    </button>\n",
              "\n",
              "  <style>\n",
              "    .colab-df-container {\n",
              "      display:flex;\n",
              "      gap: 12px;\n",
              "    }\n",
              "\n",
              "    .colab-df-convert {\n",
              "      background-color: #E8F0FE;\n",
              "      border: none;\n",
              "      border-radius: 50%;\n",
              "      cursor: pointer;\n",
              "      display: none;\n",
              "      fill: #1967D2;\n",
              "      height: 32px;\n",
              "      padding: 0 0 0 0;\n",
              "      width: 32px;\n",
              "    }\n",
              "\n",
              "    .colab-df-convert:hover {\n",
              "      background-color: #E2EBFA;\n",
              "      box-shadow: 0px 1px 2px rgba(60, 64, 67, 0.3), 0px 1px 3px 1px rgba(60, 64, 67, 0.15);\n",
              "      fill: #174EA6;\n",
              "    }\n",
              "\n",
              "    .colab-df-buttons div {\n",
              "      margin-bottom: 4px;\n",
              "    }\n",
              "\n",
              "    [theme=dark] .colab-df-convert {\n",
              "      background-color: #3B4455;\n",
              "      fill: #D2E3FC;\n",
              "    }\n",
              "\n",
              "    [theme=dark] .colab-df-convert:hover {\n",
              "      background-color: #434B5C;\n",
              "      box-shadow: 0px 1px 3px 1px rgba(0, 0, 0, 0.15);\n",
              "      filter: drop-shadow(0px 1px 2px rgba(0, 0, 0, 0.3));\n",
              "      fill: #FFFFFF;\n",
              "    }\n",
              "  </style>\n",
              "\n",
              "    <script>\n",
              "      const buttonEl =\n",
              "        document.querySelector('#df-67eacad4-a84e-44d4-86a6-cb6e5cce7765 button.colab-df-convert');\n",
              "      buttonEl.style.display =\n",
              "        google.colab.kernel.accessAllowed ? 'block' : 'none';\n",
              "\n",
              "      async function convertToInteractive(key) {\n",
              "        const element = document.querySelector('#df-67eacad4-a84e-44d4-86a6-cb6e5cce7765');\n",
              "        const dataTable =\n",
              "          await google.colab.kernel.invokeFunction('convertToInteractive',\n",
              "                                                    [key], {});\n",
              "        if (!dataTable) return;\n",
              "\n",
              "        const docLinkHtml = 'Like what you see? Visit the ' +\n",
              "          '<a target=\"_blank\" href=https://colab.research.google.com/notebooks/data_table.ipynb>data table notebook</a>'\n",
              "          + ' to learn more about interactive tables.';\n",
              "        element.innerHTML = '';\n",
              "        dataTable['output_type'] = 'display_data';\n",
              "        await google.colab.output.renderOutput(dataTable, element);\n",
              "        const docLink = document.createElement('div');\n",
              "        docLink.innerHTML = docLinkHtml;\n",
              "        element.appendChild(docLink);\n",
              "      }\n",
              "    </script>\n",
              "  </div>\n",
              "\n",
              "\n",
              "<div id=\"df-cef87add-ffe2-4e61-b30d-ad57f2845cea\">\n",
              "  <button class=\"colab-df-quickchart\" onclick=\"quickchart('df-cef87add-ffe2-4e61-b30d-ad57f2845cea')\"\n",
              "            title=\"Suggest charts\"\n",
              "            style=\"display:none;\">\n",
              "\n",
              "<svg xmlns=\"http://www.w3.org/2000/svg\" height=\"24px\"viewBox=\"0 0 24 24\"\n",
              "     width=\"24px\">\n",
              "    <g>\n",
              "        <path d=\"M19 3H5c-1.1 0-2 .9-2 2v14c0 1.1.9 2 2 2h14c1.1 0 2-.9 2-2V5c0-1.1-.9-2-2-2zM9 17H7v-7h2v7zm4 0h-2V7h2v10zm4 0h-2v-4h2v4z\"/>\n",
              "    </g>\n",
              "</svg>\n",
              "  </button>\n",
              "\n",
              "<style>\n",
              "  .colab-df-quickchart {\n",
              "      --bg-color: #E8F0FE;\n",
              "      --fill-color: #1967D2;\n",
              "      --hover-bg-color: #E2EBFA;\n",
              "      --hover-fill-color: #174EA6;\n",
              "      --disabled-fill-color: #AAA;\n",
              "      --disabled-bg-color: #DDD;\n",
              "  }\n",
              "\n",
              "  [theme=dark] .colab-df-quickchart {\n",
              "      --bg-color: #3B4455;\n",
              "      --fill-color: #D2E3FC;\n",
              "      --hover-bg-color: #434B5C;\n",
              "      --hover-fill-color: #FFFFFF;\n",
              "      --disabled-bg-color: #3B4455;\n",
              "      --disabled-fill-color: #666;\n",
              "  }\n",
              "\n",
              "  .colab-df-quickchart {\n",
              "    background-color: var(--bg-color);\n",
              "    border: none;\n",
              "    border-radius: 50%;\n",
              "    cursor: pointer;\n",
              "    display: none;\n",
              "    fill: var(--fill-color);\n",
              "    height: 32px;\n",
              "    padding: 0;\n",
              "    width: 32px;\n",
              "  }\n",
              "\n",
              "  .colab-df-quickchart:hover {\n",
              "    background-color: var(--hover-bg-color);\n",
              "    box-shadow: 0 1px 2px rgba(60, 64, 67, 0.3), 0 1px 3px 1px rgba(60, 64, 67, 0.15);\n",
              "    fill: var(--button-hover-fill-color);\n",
              "  }\n",
              "\n",
              "  .colab-df-quickchart-complete:disabled,\n",
              "  .colab-df-quickchart-complete:disabled:hover {\n",
              "    background-color: var(--disabled-bg-color);\n",
              "    fill: var(--disabled-fill-color);\n",
              "    box-shadow: none;\n",
              "  }\n",
              "\n",
              "  .colab-df-spinner {\n",
              "    border: 2px solid var(--fill-color);\n",
              "    border-color: transparent;\n",
              "    border-bottom-color: var(--fill-color);\n",
              "    animation:\n",
              "      spin 1s steps(1) infinite;\n",
              "  }\n",
              "\n",
              "  @keyframes spin {\n",
              "    0% {\n",
              "      border-color: transparent;\n",
              "      border-bottom-color: var(--fill-color);\n",
              "      border-left-color: var(--fill-color);\n",
              "    }\n",
              "    20% {\n",
              "      border-color: transparent;\n",
              "      border-left-color: var(--fill-color);\n",
              "      border-top-color: var(--fill-color);\n",
              "    }\n",
              "    30% {\n",
              "      border-color: transparent;\n",
              "      border-left-color: var(--fill-color);\n",
              "      border-top-color: var(--fill-color);\n",
              "      border-right-color: var(--fill-color);\n",
              "    }\n",
              "    40% {\n",
              "      border-color: transparent;\n",
              "      border-right-color: var(--fill-color);\n",
              "      border-top-color: var(--fill-color);\n",
              "    }\n",
              "    60% {\n",
              "      border-color: transparent;\n",
              "      border-right-color: var(--fill-color);\n",
              "    }\n",
              "    80% {\n",
              "      border-color: transparent;\n",
              "      border-right-color: var(--fill-color);\n",
              "      border-bottom-color: var(--fill-color);\n",
              "    }\n",
              "    90% {\n",
              "      border-color: transparent;\n",
              "      border-bottom-color: var(--fill-color);\n",
              "    }\n",
              "  }\n",
              "</style>\n",
              "\n",
              "  <script>\n",
              "    async function quickchart(key) {\n",
              "      const quickchartButtonEl =\n",
              "        document.querySelector('#' + key + ' button');\n",
              "      quickchartButtonEl.disabled = true;  // To prevent multiple clicks.\n",
              "      quickchartButtonEl.classList.add('colab-df-spinner');\n",
              "      try {\n",
              "        const charts = await google.colab.kernel.invokeFunction(\n",
              "            'suggestCharts', [key], {});\n",
              "      } catch (error) {\n",
              "        console.error('Error during call to suggestCharts:', error);\n",
              "      }\n",
              "      quickchartButtonEl.classList.remove('colab-df-spinner');\n",
              "      quickchartButtonEl.classList.add('colab-df-quickchart-complete');\n",
              "    }\n",
              "    (() => {\n",
              "      let quickchartButtonEl =\n",
              "        document.querySelector('#df-cef87add-ffe2-4e61-b30d-ad57f2845cea button');\n",
              "      quickchartButtonEl.style.display =\n",
              "        google.colab.kernel.accessAllowed ? 'block' : 'none';\n",
              "    })();\n",
              "  </script>\n",
              "</div>\n",
              "    </div>\n",
              "  </div>\n"
            ],
            "application/vnd.google.colaboratory.intrinsic+json": {
              "type": "dataframe",
              "variable_name": "data"
            }
          },
          "metadata": {},
          "execution_count": 6
        }
      ]
    },
    {
      "cell_type": "code",
      "source": [
        "data.dtypes"
      ],
      "metadata": {
        "colab": {
          "base_uri": "https://localhost:8080/"
        },
        "id": "zEOH-cXiBklD",
        "outputId": "4da3f1d9-8a76-4e88-ee5b-bf9035f6a8c1"
      },
      "execution_count": null,
      "outputs": [
        {
          "output_type": "execute_result",
          "data": {
            "text/plain": [
              "race_date                 object\n",
              "race_city                 object\n",
              "race_no                    int64\n",
              "result                     int64\n",
              "horse_name                object\n",
              "horse_accessories         object\n",
              "horse_age                 object\n",
              "horse_sex                 object\n",
              "horse_origin              object\n",
              "horse_sire                object\n",
              "horse_dam                 object\n",
              "hors_broodmare_sire       object\n",
              "jockey_weight              int64\n",
              "jockey_name               object\n",
              "horse_owner               object\n",
              "horse_trainer             object\n",
              "horse_race_degree         object\n",
              "horse_win_value          float64\n",
              "horse_psf_rate             int64\n",
              "horse_psf_rank             int64\n",
              "Horse_starting_box_no      int64\n",
              "horse_rate                 int64\n",
              "dtype: object"
            ]
          },
          "metadata": {},
          "execution_count": 7
        }
      ]
    },
    {
      "cell_type": "code",
      "source": [
        "y=data['horse_rate']\n",
        "data.drop(columns='horse_rate', inplace=True)\n"
      ],
      "metadata": {
        "id": "VWLtM-slBovX"
      },
      "execution_count": null,
      "outputs": []
    },
    {
      "cell_type": "code",
      "source": [
        "y"
      ],
      "metadata": {
        "id": "RLNo3tInCFZQ"
      },
      "execution_count": null,
      "outputs": []
    },
    {
      "cell_type": "code",
      "source": [
        "x=data\n",
        "x"
      ],
      "metadata": {
        "id": "TCVZNJUPCOsi"
      },
      "execution_count": null,
      "outputs": []
    },
    {
      "cell_type": "code",
      "source": [
        "from sklearn.preprocessing import StandardScaler\n",
        "\n",
        "scaler = StandardScaler()\n",
        "x_scaler = scaler.fit_transform(data.iloc[:, [2,3,12,18,19,20]])\n",
        "x_scaler"
      ],
      "metadata": {
        "colab": {
          "base_uri": "https://localhost:8080/"
        },
        "id": "X27tsmTRCr1K",
        "outputId": "8aab0e47-4747-4228-ed4e-b9525a995a10"
      },
      "execution_count": 11,
      "outputs": [
        {
          "output_type": "execute_result",
          "data": {
            "text/plain": [
              "array([[-1.55536271, -1.32940334, -0.1004172 ,  3.28479029, -1.15960692,\n",
              "        -1.33399006],\n",
              "       [-1.55536271, -1.02999573,  0.65744515,  0.83073564, -0.86970519,\n",
              "        -0.45018897],\n",
              "       [-1.55536271, -0.73058812, -0.1004172 , -0.60784812,  0.28990173,\n",
              "        -0.74478933],\n",
              "       ...,\n",
              "       [ 1.28005802,  2.26348796, -1.23721074, -0.43860297,  0.57980346,\n",
              "         0.13901175],\n",
              "       [ 1.28005802,  2.56289557,  0.65744515, -0.69247069,  2.89901729,\n",
              "         1.02281284],\n",
              "       [ 1.28005802,  2.86230318,  0.27851397, -0.69247069,  2.31921383,\n",
              "         2.79041501]])"
            ]
          },
          "metadata": {},
          "execution_count": 11
        }
      ]
    },
    {
      "cell_type": "code",
      "source": [
        "from sklearn.model_selection import train_test_split\n",
        "x_train, x_test, y_train, y_test = train_test_split(x_scaler, y, test_size=0.3, train_size=0.7, shuffle=True)"
      ],
      "metadata": {
        "id": "vLLZBfnjDLpI"
      },
      "execution_count": 12,
      "outputs": []
    },
    {
      "cell_type": "code",
      "source": [
        "print(x_train.shape)\n",
        "print(x_test.shape)\n",
        "print(y_train.shape)\n",
        "print(y_test.shape)"
      ],
      "metadata": {
        "colab": {
          "base_uri": "https://localhost:8080/"
        },
        "id": "gaHyfqKADhy4",
        "outputId": "b659e513-a080-4541-cd97-c3c2afcf7074"
      },
      "execution_count": 14,
      "outputs": [
        {
          "output_type": "stream",
          "name": "stdout",
          "text": [
            "(2998, 6)\n",
            "(1285, 6)\n",
            "(2998,)\n",
            "(1285,)\n"
          ]
        }
      ]
    },
    {
      "cell_type": "code",
      "source": [
        "from sklearn.linear_model import LinearRegression\n",
        "model = LinearRegression()"
      ],
      "metadata": {
        "id": "dOmuNygDEJvO"
      },
      "execution_count": 15,
      "outputs": []
    },
    {
      "cell_type": "code",
      "source": [
        "model.fit(x_train, y_train)"
      ],
      "metadata": {
        "colab": {
          "base_uri": "https://localhost:8080/",
          "height": 74
        },
        "id": "aO_EunguESWY",
        "outputId": "04a4ffce-bc09-451e-bc09-a73cd66a5179"
      },
      "execution_count": 16,
      "outputs": [
        {
          "output_type": "execute_result",
          "data": {
            "text/plain": [
              "LinearRegression()"
            ],
            "text/html": [
              "<style>#sk-container-id-1 {color: black;background-color: white;}#sk-container-id-1 pre{padding: 0;}#sk-container-id-1 div.sk-toggleable {background-color: white;}#sk-container-id-1 label.sk-toggleable__label {cursor: pointer;display: block;width: 100%;margin-bottom: 0;padding: 0.3em;box-sizing: border-box;text-align: center;}#sk-container-id-1 label.sk-toggleable__label-arrow:before {content: \"▸\";float: left;margin-right: 0.25em;color: #696969;}#sk-container-id-1 label.sk-toggleable__label-arrow:hover:before {color: black;}#sk-container-id-1 div.sk-estimator:hover label.sk-toggleable__label-arrow:before {color: black;}#sk-container-id-1 div.sk-toggleable__content {max-height: 0;max-width: 0;overflow: hidden;text-align: left;background-color: #f0f8ff;}#sk-container-id-1 div.sk-toggleable__content pre {margin: 0.2em;color: black;border-radius: 0.25em;background-color: #f0f8ff;}#sk-container-id-1 input.sk-toggleable__control:checked~div.sk-toggleable__content {max-height: 200px;max-width: 100%;overflow: auto;}#sk-container-id-1 input.sk-toggleable__control:checked~label.sk-toggleable__label-arrow:before {content: \"▾\";}#sk-container-id-1 div.sk-estimator input.sk-toggleable__control:checked~label.sk-toggleable__label {background-color: #d4ebff;}#sk-container-id-1 div.sk-label input.sk-toggleable__control:checked~label.sk-toggleable__label {background-color: #d4ebff;}#sk-container-id-1 input.sk-hidden--visually {border: 0;clip: rect(1px 1px 1px 1px);clip: rect(1px, 1px, 1px, 1px);height: 1px;margin: -1px;overflow: hidden;padding: 0;position: absolute;width: 1px;}#sk-container-id-1 div.sk-estimator {font-family: monospace;background-color: #f0f8ff;border: 1px dotted black;border-radius: 0.25em;box-sizing: border-box;margin-bottom: 0.5em;}#sk-container-id-1 div.sk-estimator:hover {background-color: #d4ebff;}#sk-container-id-1 div.sk-parallel-item::after {content: \"\";width: 100%;border-bottom: 1px solid gray;flex-grow: 1;}#sk-container-id-1 div.sk-label:hover label.sk-toggleable__label {background-color: #d4ebff;}#sk-container-id-1 div.sk-serial::before {content: \"\";position: absolute;border-left: 1px solid gray;box-sizing: border-box;top: 0;bottom: 0;left: 50%;z-index: 0;}#sk-container-id-1 div.sk-serial {display: flex;flex-direction: column;align-items: center;background-color: white;padding-right: 0.2em;padding-left: 0.2em;position: relative;}#sk-container-id-1 div.sk-item {position: relative;z-index: 1;}#sk-container-id-1 div.sk-parallel {display: flex;align-items: stretch;justify-content: center;background-color: white;position: relative;}#sk-container-id-1 div.sk-item::before, #sk-container-id-1 div.sk-parallel-item::before {content: \"\";position: absolute;border-left: 1px solid gray;box-sizing: border-box;top: 0;bottom: 0;left: 50%;z-index: -1;}#sk-container-id-1 div.sk-parallel-item {display: flex;flex-direction: column;z-index: 1;position: relative;background-color: white;}#sk-container-id-1 div.sk-parallel-item:first-child::after {align-self: flex-end;width: 50%;}#sk-container-id-1 div.sk-parallel-item:last-child::after {align-self: flex-start;width: 50%;}#sk-container-id-1 div.sk-parallel-item:only-child::after {width: 0;}#sk-container-id-1 div.sk-dashed-wrapped {border: 1px dashed gray;margin: 0 0.4em 0.5em 0.4em;box-sizing: border-box;padding-bottom: 0.4em;background-color: white;}#sk-container-id-1 div.sk-label label {font-family: monospace;font-weight: bold;display: inline-block;line-height: 1.2em;}#sk-container-id-1 div.sk-label-container {text-align: center;}#sk-container-id-1 div.sk-container {/* jupyter's `normalize.less` sets `[hidden] { display: none; }` but bootstrap.min.css set `[hidden] { display: none !important; }` so we also need the `!important` here to be able to override the default hidden behavior on the sphinx rendered scikit-learn.org. See: https://github.com/scikit-learn/scikit-learn/issues/21755 */display: inline-block !important;position: relative;}#sk-container-id-1 div.sk-text-repr-fallback {display: none;}</style><div id=\"sk-container-id-1\" class=\"sk-top-container\"><div class=\"sk-text-repr-fallback\"><pre>LinearRegression()</pre><b>In a Jupyter environment, please rerun this cell to show the HTML representation or trust the notebook. <br />On GitHub, the HTML representation is unable to render, please try loading this page with nbviewer.org.</b></div><div class=\"sk-container\" hidden><div class=\"sk-item\"><div class=\"sk-estimator sk-toggleable\"><input class=\"sk-toggleable__control sk-hidden--visually\" id=\"sk-estimator-id-1\" type=\"checkbox\" checked><label for=\"sk-estimator-id-1\" class=\"sk-toggleable__label sk-toggleable__label-arrow\">LinearRegression</label><div class=\"sk-toggleable__content\"><pre>LinearRegression()</pre></div></div></div></div></div>"
            ]
          },
          "metadata": {},
          "execution_count": 16
        }
      ]
    },
    {
      "cell_type": "code",
      "source": [
        "y_pred = model.predict(x_test)"
      ],
      "metadata": {
        "id": "FHHO9CYZEWVa"
      },
      "execution_count": 18,
      "outputs": []
    },
    {
      "cell_type": "code",
      "source": [
        "from sklearn.metrics import mean_squared_error, r2_score\n",
        "print(mean_squared_error(y_test, y_pred))\n",
        "print(r2_score(y_test, y_pred))"
      ],
      "metadata": {
        "colab": {
          "base_uri": "https://localhost:8080/"
        },
        "id": "x9y6T4JEEjWr",
        "outputId": "2959927a-ca54-45a2-c805-5996021f95c3"
      },
      "execution_count": 24,
      "outputs": [
        {
          "output_type": "stream",
          "name": "stdout",
          "text": [
            "518.2611348039003\n",
            "0.12465168291932083\n"
          ]
        }
      ]
    },
    {
      "cell_type": "code",
      "source": [
        "y_pred"
      ],
      "metadata": {
        "colab": {
          "base_uri": "https://localhost:8080/"
        },
        "id": "mzuD9YJwFAdE",
        "outputId": "425ff57f-0fb2-4c23-8b63-e8dd94ed02bd"
      },
      "execution_count": 23,
      "outputs": [
        {
          "output_type": "execute_result",
          "data": {
            "text/plain": [
              "array([51.92972051, 37.1660118 , 43.31278924, ..., 40.29984423,\n",
              "       52.4669835 , 53.27082397])"
            ]
          },
          "metadata": {},
          "execution_count": 23
        }
      ]
    },
    {
      "cell_type": "code",
      "source": [],
      "metadata": {
        "id": "hlfcL6xHGDx6"
      },
      "execution_count": null,
      "outputs": []
    }
  ]
}